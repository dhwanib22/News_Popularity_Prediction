{
  "cells": [
    {
      "cell_type": "markdown",
      "source": [
        "#**BERT Model for Popularity Prediction**\n",
        "---"
      ],
      "metadata": {
        "id": "dzJOHU26YAbr"
      }
    },
    {
      "cell_type": "markdown",
      "metadata": {
        "id": "LsdbJ0vzmsU-"
      },
      "source": [
        "# **Connecting to drive**"
      ]
    },
    {
      "cell_type": "code",
      "execution_count": null,
      "metadata": {
        "colab": {
          "base_uri": "https://localhost:8080/"
        },
        "id": "nOXxdToTmVa8",
        "outputId": "87e44324-b5bb-474b-da1b-047492ef92a5"
      },
      "outputs": [
        {
          "output_type": "stream",
          "name": "stdout",
          "text": [
            "Mounted at /content/Drive\n"
          ]
        }
      ],
      "source": [
        "from google.colab import drive\n",
        "\n",
        "drive.mount(\"/content/Drive\")"
      ]
    },
    {
      "cell_type": "code",
      "execution_count": null,
      "metadata": {
        "colab": {
          "base_uri": "https://localhost:8080/"
        },
        "id": "AgoQfuZimgaY",
        "outputId": "151acde0-0a6a-41e2-e798-c93a3c7d39e5"
      },
      "outputs": [
        {
          "output_type": "stream",
          "name": "stdout",
          "text": [
            "Mounted at /content/drive\n",
            "File directory: /content/drive/My Drive/AI_Desicion_Scineces2_endterm\n"
          ]
        }
      ],
      "source": [
        "import os\n",
        "\n",
        "# Mount your Google Drive to access files stored there\n",
        "drive.mount('/content/drive')\n",
        "\n",
        "# Replace 'your_file_name.csv' with the actual name of your file.\n",
        "file_name = 'final_data.csv'\n",
        "\n",
        "# Set the root directory to your Google Drive\n",
        "root_dir = '/content/drive/My Drive/'\n",
        "\n",
        "# Function to recursively search for the file in all directories and subdirectories\n",
        "def find_file(directory):\n",
        "    for item in os.listdir(directory):\n",
        "        item_path = os.path.join(directory, item)\n",
        "        if os.path.isfile(item_path) and item == file_name:\n",
        "            return directory\n",
        "        elif os.path.isdir(item_path):\n",
        "            result = find_file(item_path)\n",
        "            if result:\n",
        "                return result\n",
        "    return None\n",
        "\n",
        "# Call the function to find the file directory\n",
        "file_directory = find_file(root_dir)\n",
        "\n",
        "# Print the file directory\n",
        "if file_directory:\n",
        "    print(\"File directory:\", file_directory)\n",
        "else:\n",
        "    print(\"File not found in Google Drive.\")"
      ]
    },
    {
      "cell_type": "code",
      "execution_count": null,
      "metadata": {
        "id": "7hwxTx-Mmpud"
      },
      "outputs": [],
      "source": [
        "os.chdir('/content/drive/My Drive/AI_Desicion_Scineces2_endterm')"
      ]
    },
    {
      "cell_type": "code",
      "execution_count": null,
      "metadata": {
        "id": "D_lmoWV1AusB"
      },
      "outputs": [],
      "source": [
        "#Basic libraries\n",
        "import pandas as pd\n",
        "import numpy as np\n",
        "\n",
        "\n",
        "#NLTK libraries\n",
        "import nltk\n",
        "import re\n",
        "import string\n",
        "from wordcloud import WordCloud,STOPWORDS\n",
        "from nltk.stem.porter import PorterStemmer\n",
        "from sklearn.feature_extraction.text import TfidfVectorizer\n",
        "\n",
        "#Visualization libraries\n",
        "import matplotlib.pyplot as plt\n",
        "from matplotlib import rcParams\n",
        "import seaborn as sns\n",
        "from textblob import TextBlob\n",
        "from plotly import tools\n",
        "import plotly.graph_objs as go\n",
        "from plotly.offline import iplot\n",
        "%matplotlib inline\n",
        "\n",
        "#Ignore warnings\n",
        "import warnings\n",
        "warnings.filterwarnings('ignore')\n",
        "\n",
        "#Other miscellaneous libraries\n",
        "from scipy import interp\n",
        "from itertools import cycle\n",
        "import cufflinks as cf\n",
        "from collections import defaultdict\n",
        "from collections import Counter\n",
        "from imblearn.over_sampling import SMOTE"
      ]
    },
    {
      "cell_type": "markdown",
      "metadata": {
        "id": "7pkMOtoO-hTg"
      },
      "source": [
        "#**Reading the data**\n",
        "---"
      ]
    },
    {
      "cell_type": "code",
      "execution_count": null,
      "metadata": {
        "id": "b2oOU696m8m4"
      },
      "outputs": [],
      "source": [
        "# Read the csv file and convert it to DataFrame\n",
        "df = pd.read_csv('final_data.csv')"
      ]
    },
    {
      "cell_type": "code",
      "execution_count": null,
      "metadata": {
        "colab": {
          "base_uri": "https://localhost:8080/",
          "height": 608
        },
        "id": "VDabIuRLnOJO",
        "outputId": "4cd5c210-a2cd-4bb4-feb7-8f685d7695f1"
      },
      "outputs": [
        {
          "output_type": "execute_result",
          "data": {
            "text/plain": [
              "    IDLink                                             Title  \\\n",
              "0  80690.0                               Monday, 29 Feb 2016   \n",
              "1  28854.0      Buffett: Politicians 'Dead Wrong' on Economy   \n",
              "2  81052.0                               Monday, 29 Feb 2016   \n",
              "3  80994.0                               Tuesday, 1 Mar 2016   \n",
              "4    946.0  Microsoft Takes Six Billion Dollars From Android   \n",
              "\n",
              "                                            Headline      Topic PublishDate  \\\n",
              "0  RAMALLAH, February 25, 2016 (WAFA) - Palestine...  palestine  2016-02-28   \n",
              "1  Warren Buffett has a message for presidential ...    economy  2016-02-28   \n",
              "2  RAMALLAH, February 29, 2016 (WAFA) - The Gover...  palestine  2016-03-01   \n",
              "3  RAMALLAH, February 29, 2016 (WAFA) - The Gover...  palestine  2016-03-01   \n",
              "4  A long time ago, Microsoft MSFT +0.00% purchas...  microsoft  2015-11-01   \n",
              "\n",
              "   SentimentTitle  SentimentHeadline  Facebook  GooglePlus  LinkedIn  \\\n",
              "0        0.000000          -0.005906       1.0         1.0       1.0   \n",
              "1        0.051031          -0.037921       0.0         0.0       0.0   \n",
              "2        0.000000           0.048546       1.0         1.0       1.0   \n",
              "3       -0.243068           0.048546       1.0         1.0       1.0   \n",
              "4        0.000000           0.115928       0.0         0.0       0.0   \n",
              "\n",
              "  PublishTime  Weekday  Facebook_scaled  GooglePlus_scaled  LinkedIn_scaled  \\\n",
              "0    14:03:00   Sunday         -0.64969          -0.617774        -0.563154   \n",
              "1    19:17:00   Sunday          0.00000           0.000000         0.000000   \n",
              "2    09:29:00  Tuesday         -0.64969          -0.617774        -0.563154   \n",
              "3    00:15:00  Tuesday         -0.64969          -0.617774        -0.563154   \n",
              "4    00:00:00   Sunday          0.00000           0.000000         0.000000   \n",
              "\n",
              "  SentimentTitle_Category SentimentHeadline_Category Source_type  Hour  \n",
              "0                 neutral                   negative           D    14  \n",
              "1                positive                   negative           D    19  \n",
              "2                 neutral                   positive           D     9  \n",
              "3                negative                   positive           D     0  \n",
              "4                 neutral                   positive           D     0  "
            ],
            "text/html": [
              "\n",
              "  <div id=\"df-fa2f7622-f409-4a3f-9268-9a0f797fb91f\" class=\"colab-df-container\">\n",
              "    <div>\n",
              "<style scoped>\n",
              "    .dataframe tbody tr th:only-of-type {\n",
              "        vertical-align: middle;\n",
              "    }\n",
              "\n",
              "    .dataframe tbody tr th {\n",
              "        vertical-align: top;\n",
              "    }\n",
              "\n",
              "    .dataframe thead th {\n",
              "        text-align: right;\n",
              "    }\n",
              "</style>\n",
              "<table border=\"1\" class=\"dataframe\">\n",
              "  <thead>\n",
              "    <tr style=\"text-align: right;\">\n",
              "      <th></th>\n",
              "      <th>IDLink</th>\n",
              "      <th>Title</th>\n",
              "      <th>Headline</th>\n",
              "      <th>Topic</th>\n",
              "      <th>PublishDate</th>\n",
              "      <th>SentimentTitle</th>\n",
              "      <th>SentimentHeadline</th>\n",
              "      <th>Facebook</th>\n",
              "      <th>GooglePlus</th>\n",
              "      <th>LinkedIn</th>\n",
              "      <th>PublishTime</th>\n",
              "      <th>Weekday</th>\n",
              "      <th>Facebook_scaled</th>\n",
              "      <th>GooglePlus_scaled</th>\n",
              "      <th>LinkedIn_scaled</th>\n",
              "      <th>SentimentTitle_Category</th>\n",
              "      <th>SentimentHeadline_Category</th>\n",
              "      <th>Source_type</th>\n",
              "      <th>Hour</th>\n",
              "    </tr>\n",
              "  </thead>\n",
              "  <tbody>\n",
              "    <tr>\n",
              "      <th>0</th>\n",
              "      <td>80690.0</td>\n",
              "      <td>Monday, 29 Feb 2016</td>\n",
              "      <td>RAMALLAH, February 25, 2016 (WAFA) - Palestine...</td>\n",
              "      <td>palestine</td>\n",
              "      <td>2016-02-28</td>\n",
              "      <td>0.000000</td>\n",
              "      <td>-0.005906</td>\n",
              "      <td>1.0</td>\n",
              "      <td>1.0</td>\n",
              "      <td>1.0</td>\n",
              "      <td>14:03:00</td>\n",
              "      <td>Sunday</td>\n",
              "      <td>-0.64969</td>\n",
              "      <td>-0.617774</td>\n",
              "      <td>-0.563154</td>\n",
              "      <td>neutral</td>\n",
              "      <td>negative</td>\n",
              "      <td>D</td>\n",
              "      <td>14</td>\n",
              "    </tr>\n",
              "    <tr>\n",
              "      <th>1</th>\n",
              "      <td>28854.0</td>\n",
              "      <td>Buffett: Politicians 'Dead Wrong' on Economy</td>\n",
              "      <td>Warren Buffett has a message for presidential ...</td>\n",
              "      <td>economy</td>\n",
              "      <td>2016-02-28</td>\n",
              "      <td>0.051031</td>\n",
              "      <td>-0.037921</td>\n",
              "      <td>0.0</td>\n",
              "      <td>0.0</td>\n",
              "      <td>0.0</td>\n",
              "      <td>19:17:00</td>\n",
              "      <td>Sunday</td>\n",
              "      <td>0.00000</td>\n",
              "      <td>0.000000</td>\n",
              "      <td>0.000000</td>\n",
              "      <td>positive</td>\n",
              "      <td>negative</td>\n",
              "      <td>D</td>\n",
              "      <td>19</td>\n",
              "    </tr>\n",
              "    <tr>\n",
              "      <th>2</th>\n",
              "      <td>81052.0</td>\n",
              "      <td>Monday, 29 Feb 2016</td>\n",
              "      <td>RAMALLAH, February 29, 2016 (WAFA) - The Gover...</td>\n",
              "      <td>palestine</td>\n",
              "      <td>2016-03-01</td>\n",
              "      <td>0.000000</td>\n",
              "      <td>0.048546</td>\n",
              "      <td>1.0</td>\n",
              "      <td>1.0</td>\n",
              "      <td>1.0</td>\n",
              "      <td>09:29:00</td>\n",
              "      <td>Tuesday</td>\n",
              "      <td>-0.64969</td>\n",
              "      <td>-0.617774</td>\n",
              "      <td>-0.563154</td>\n",
              "      <td>neutral</td>\n",
              "      <td>positive</td>\n",
              "      <td>D</td>\n",
              "      <td>9</td>\n",
              "    </tr>\n",
              "    <tr>\n",
              "      <th>3</th>\n",
              "      <td>80994.0</td>\n",
              "      <td>Tuesday, 1 Mar 2016</td>\n",
              "      <td>RAMALLAH, February 29, 2016 (WAFA) - The Gover...</td>\n",
              "      <td>palestine</td>\n",
              "      <td>2016-03-01</td>\n",
              "      <td>-0.243068</td>\n",
              "      <td>0.048546</td>\n",
              "      <td>1.0</td>\n",
              "      <td>1.0</td>\n",
              "      <td>1.0</td>\n",
              "      <td>00:15:00</td>\n",
              "      <td>Tuesday</td>\n",
              "      <td>-0.64969</td>\n",
              "      <td>-0.617774</td>\n",
              "      <td>-0.563154</td>\n",
              "      <td>negative</td>\n",
              "      <td>positive</td>\n",
              "      <td>D</td>\n",
              "      <td>0</td>\n",
              "    </tr>\n",
              "    <tr>\n",
              "      <th>4</th>\n",
              "      <td>946.0</td>\n",
              "      <td>Microsoft Takes Six Billion Dollars From Android</td>\n",
              "      <td>A long time ago, Microsoft MSFT +0.00% purchas...</td>\n",
              "      <td>microsoft</td>\n",
              "      <td>2015-11-01</td>\n",
              "      <td>0.000000</td>\n",
              "      <td>0.115928</td>\n",
              "      <td>0.0</td>\n",
              "      <td>0.0</td>\n",
              "      <td>0.0</td>\n",
              "      <td>00:00:00</td>\n",
              "      <td>Sunday</td>\n",
              "      <td>0.00000</td>\n",
              "      <td>0.000000</td>\n",
              "      <td>0.000000</td>\n",
              "      <td>neutral</td>\n",
              "      <td>positive</td>\n",
              "      <td>D</td>\n",
              "      <td>0</td>\n",
              "    </tr>\n",
              "  </tbody>\n",
              "</table>\n",
              "</div>\n",
              "    <div class=\"colab-df-buttons\">\n",
              "\n",
              "  <div class=\"colab-df-container\">\n",
              "    <button class=\"colab-df-convert\" onclick=\"convertToInteractive('df-fa2f7622-f409-4a3f-9268-9a0f797fb91f')\"\n",
              "            title=\"Convert this dataframe to an interactive table.\"\n",
              "            style=\"display:none;\">\n",
              "\n",
              "  <svg xmlns=\"http://www.w3.org/2000/svg\" height=\"24px\" viewBox=\"0 -960 960 960\">\n",
              "    <path d=\"M120-120v-720h720v720H120Zm60-500h600v-160H180v160Zm220 220h160v-160H400v160Zm0 220h160v-160H400v160ZM180-400h160v-160H180v160Zm440 0h160v-160H620v160ZM180-180h160v-160H180v160Zm440 0h160v-160H620v160Z\"/>\n",
              "  </svg>\n",
              "    </button>\n",
              "\n",
              "  <style>\n",
              "    .colab-df-container {\n",
              "      display:flex;\n",
              "      gap: 12px;\n",
              "    }\n",
              "\n",
              "    .colab-df-convert {\n",
              "      background-color: #E8F0FE;\n",
              "      border: none;\n",
              "      border-radius: 50%;\n",
              "      cursor: pointer;\n",
              "      display: none;\n",
              "      fill: #1967D2;\n",
              "      height: 32px;\n",
              "      padding: 0 0 0 0;\n",
              "      width: 32px;\n",
              "    }\n",
              "\n",
              "    .colab-df-convert:hover {\n",
              "      background-color: #E2EBFA;\n",
              "      box-shadow: 0px 1px 2px rgba(60, 64, 67, 0.3), 0px 1px 3px 1px rgba(60, 64, 67, 0.15);\n",
              "      fill: #174EA6;\n",
              "    }\n",
              "\n",
              "    .colab-df-buttons div {\n",
              "      margin-bottom: 4px;\n",
              "    }\n",
              "\n",
              "    [theme=dark] .colab-df-convert {\n",
              "      background-color: #3B4455;\n",
              "      fill: #D2E3FC;\n",
              "    }\n",
              "\n",
              "    [theme=dark] .colab-df-convert:hover {\n",
              "      background-color: #434B5C;\n",
              "      box-shadow: 0px 1px 3px 1px rgba(0, 0, 0, 0.15);\n",
              "      filter: drop-shadow(0px 1px 2px rgba(0, 0, 0, 0.3));\n",
              "      fill: #FFFFFF;\n",
              "    }\n",
              "  </style>\n",
              "\n",
              "    <script>\n",
              "      const buttonEl =\n",
              "        document.querySelector('#df-fa2f7622-f409-4a3f-9268-9a0f797fb91f button.colab-df-convert');\n",
              "      buttonEl.style.display =\n",
              "        google.colab.kernel.accessAllowed ? 'block' : 'none';\n",
              "\n",
              "      async function convertToInteractive(key) {\n",
              "        const element = document.querySelector('#df-fa2f7622-f409-4a3f-9268-9a0f797fb91f');\n",
              "        const dataTable =\n",
              "          await google.colab.kernel.invokeFunction('convertToInteractive',\n",
              "                                                    [key], {});\n",
              "        if (!dataTable) return;\n",
              "\n",
              "        const docLinkHtml = 'Like what you see? Visit the ' +\n",
              "          '<a target=\"_blank\" href=https://colab.research.google.com/notebooks/data_table.ipynb>data table notebook</a>'\n",
              "          + ' to learn more about interactive tables.';\n",
              "        element.innerHTML = '';\n",
              "        dataTable['output_type'] = 'display_data';\n",
              "        await google.colab.output.renderOutput(dataTable, element);\n",
              "        const docLink = document.createElement('div');\n",
              "        docLink.innerHTML = docLinkHtml;\n",
              "        element.appendChild(docLink);\n",
              "      }\n",
              "    </script>\n",
              "  </div>\n",
              "\n",
              "\n",
              "<div id=\"df-93fd292d-d71c-4aff-843f-c60238a02e2d\">\n",
              "  <button class=\"colab-df-quickchart\" onclick=\"quickchart('df-93fd292d-d71c-4aff-843f-c60238a02e2d')\"\n",
              "            title=\"Suggest charts.\"\n",
              "            style=\"display:none;\">\n",
              "\n",
              "<svg xmlns=\"http://www.w3.org/2000/svg\" height=\"24px\"viewBox=\"0 0 24 24\"\n",
              "     width=\"24px\">\n",
              "    <g>\n",
              "        <path d=\"M19 3H5c-1.1 0-2 .9-2 2v14c0 1.1.9 2 2 2h14c1.1 0 2-.9 2-2V5c0-1.1-.9-2-2-2zM9 17H7v-7h2v7zm4 0h-2V7h2v10zm4 0h-2v-4h2v4z\"/>\n",
              "    </g>\n",
              "</svg>\n",
              "  </button>\n",
              "\n",
              "<style>\n",
              "  .colab-df-quickchart {\n",
              "      --bg-color: #E8F0FE;\n",
              "      --fill-color: #1967D2;\n",
              "      --hover-bg-color: #E2EBFA;\n",
              "      --hover-fill-color: #174EA6;\n",
              "      --disabled-fill-color: #AAA;\n",
              "      --disabled-bg-color: #DDD;\n",
              "  }\n",
              "\n",
              "  [theme=dark] .colab-df-quickchart {\n",
              "      --bg-color: #3B4455;\n",
              "      --fill-color: #D2E3FC;\n",
              "      --hover-bg-color: #434B5C;\n",
              "      --hover-fill-color: #FFFFFF;\n",
              "      --disabled-bg-color: #3B4455;\n",
              "      --disabled-fill-color: #666;\n",
              "  }\n",
              "\n",
              "  .colab-df-quickchart {\n",
              "    background-color: var(--bg-color);\n",
              "    border: none;\n",
              "    border-radius: 50%;\n",
              "    cursor: pointer;\n",
              "    display: none;\n",
              "    fill: var(--fill-color);\n",
              "    height: 32px;\n",
              "    padding: 0;\n",
              "    width: 32px;\n",
              "  }\n",
              "\n",
              "  .colab-df-quickchart:hover {\n",
              "    background-color: var(--hover-bg-color);\n",
              "    box-shadow: 0 1px 2px rgba(60, 64, 67, 0.3), 0 1px 3px 1px rgba(60, 64, 67, 0.15);\n",
              "    fill: var(--button-hover-fill-color);\n",
              "  }\n",
              "\n",
              "  .colab-df-quickchart-complete:disabled,\n",
              "  .colab-df-quickchart-complete:disabled:hover {\n",
              "    background-color: var(--disabled-bg-color);\n",
              "    fill: var(--disabled-fill-color);\n",
              "    box-shadow: none;\n",
              "  }\n",
              "\n",
              "  .colab-df-spinner {\n",
              "    border: 2px solid var(--fill-color);\n",
              "    border-color: transparent;\n",
              "    border-bottom-color: var(--fill-color);\n",
              "    animation:\n",
              "      spin 1s steps(1) infinite;\n",
              "  }\n",
              "\n",
              "  @keyframes spin {\n",
              "    0% {\n",
              "      border-color: transparent;\n",
              "      border-bottom-color: var(--fill-color);\n",
              "      border-left-color: var(--fill-color);\n",
              "    }\n",
              "    20% {\n",
              "      border-color: transparent;\n",
              "      border-left-color: var(--fill-color);\n",
              "      border-top-color: var(--fill-color);\n",
              "    }\n",
              "    30% {\n",
              "      border-color: transparent;\n",
              "      border-left-color: var(--fill-color);\n",
              "      border-top-color: var(--fill-color);\n",
              "      border-right-color: var(--fill-color);\n",
              "    }\n",
              "    40% {\n",
              "      border-color: transparent;\n",
              "      border-right-color: var(--fill-color);\n",
              "      border-top-color: var(--fill-color);\n",
              "    }\n",
              "    60% {\n",
              "      border-color: transparent;\n",
              "      border-right-color: var(--fill-color);\n",
              "    }\n",
              "    80% {\n",
              "      border-color: transparent;\n",
              "      border-right-color: var(--fill-color);\n",
              "      border-bottom-color: var(--fill-color);\n",
              "    }\n",
              "    90% {\n",
              "      border-color: transparent;\n",
              "      border-bottom-color: var(--fill-color);\n",
              "    }\n",
              "  }\n",
              "</style>\n",
              "\n",
              "  <script>\n",
              "    async function quickchart(key) {\n",
              "      const quickchartButtonEl =\n",
              "        document.querySelector('#' + key + ' button');\n",
              "      quickchartButtonEl.disabled = true;  // To prevent multiple clicks.\n",
              "      quickchartButtonEl.classList.add('colab-df-spinner');\n",
              "      try {\n",
              "        const charts = await google.colab.kernel.invokeFunction(\n",
              "            'suggestCharts', [key], {});\n",
              "      } catch (error) {\n",
              "        console.error('Error during call to suggestCharts:', error);\n",
              "      }\n",
              "      quickchartButtonEl.classList.remove('colab-df-spinner');\n",
              "      quickchartButtonEl.classList.add('colab-df-quickchart-complete');\n",
              "    }\n",
              "    (() => {\n",
              "      let quickchartButtonEl =\n",
              "        document.querySelector('#df-93fd292d-d71c-4aff-843f-c60238a02e2d button');\n",
              "      quickchartButtonEl.style.display =\n",
              "        google.colab.kernel.accessAllowed ? 'block' : 'none';\n",
              "    })();\n",
              "  </script>\n",
              "</div>\n",
              "    </div>\n",
              "  </div>\n"
            ]
          },
          "metadata": {},
          "execution_count": 6
        }
      ],
      "source": [
        "df.head()"
      ]
    },
    {
      "cell_type": "code",
      "execution_count": null,
      "metadata": {
        "colab": {
          "base_uri": "https://localhost:8080/"
        },
        "id": "T3-MonlZnPRL",
        "outputId": "898d2864-7a4c-4cc1-bce9-041b6070f31c"
      },
      "outputs": [
        {
          "output_type": "execute_result",
          "data": {
            "text/plain": [
              "(92808, 19)"
            ]
          },
          "metadata": {},
          "execution_count": 7
        }
      ],
      "source": [
        "df.shape"
      ]
    },
    {
      "cell_type": "code",
      "execution_count": null,
      "metadata": {
        "colab": {
          "base_uri": "https://localhost:8080/"
        },
        "id": "tBqvX1ifnTEa",
        "outputId": "e193d045-f6ef-499f-cc67-33a603b503db"
      },
      "outputs": [
        {
          "output_type": "stream",
          "name": "stdout",
          "text": [
            "<class 'pandas.core.frame.DataFrame'>\n",
            "RangeIndex: 92808 entries, 0 to 92807\n",
            "Data columns (total 19 columns):\n",
            " #   Column                      Non-Null Count  Dtype  \n",
            "---  ------                      --------------  -----  \n",
            " 0   IDLink                      92808 non-null  float64\n",
            " 1   Title                       92808 non-null  object \n",
            " 2   Headline                    92808 non-null  object \n",
            " 3   Topic                       92808 non-null  object \n",
            " 4   PublishDate                 92808 non-null  object \n",
            " 5   SentimentTitle              92808 non-null  float64\n",
            " 6   SentimentHeadline           92808 non-null  float64\n",
            " 7   Facebook                    92808 non-null  float64\n",
            " 8   GooglePlus                  92808 non-null  float64\n",
            " 9   LinkedIn                    92808 non-null  float64\n",
            " 10  PublishTime                 92808 non-null  object \n",
            " 11  Weekday                     92808 non-null  object \n",
            " 12  Facebook_scaled             92808 non-null  float64\n",
            " 13  GooglePlus_scaled           92808 non-null  float64\n",
            " 14  LinkedIn_scaled             92808 non-null  float64\n",
            " 15  SentimentTitle_Category     92808 non-null  object \n",
            " 16  SentimentHeadline_Category  92808 non-null  object \n",
            " 17  Source_type                 92808 non-null  object \n",
            " 18  Hour                        92808 non-null  int64  \n",
            "dtypes: float64(9), int64(1), object(9)\n",
            "memory usage: 13.5+ MB\n"
          ]
        }
      ],
      "source": [
        "df.info()"
      ]
    },
    {
      "cell_type": "markdown",
      "metadata": {
        "id": "vak7ppT9_HKj"
      },
      "source": [
        "##**Sampling data**\n",
        "- to make it managable"
      ]
    },
    {
      "cell_type": "code",
      "execution_count": null,
      "metadata": {
        "id": "GH81RqK2--LW"
      },
      "outputs": [],
      "source": [
        "# The percentage of data to sample\n",
        "sample_percentage = 0.05\n",
        "\n",
        "# Perform simple random sampling\n",
        "sample_data = df.sample(frac=sample_percentage, random_state=42)"
      ]
    },
    {
      "cell_type": "code",
      "execution_count": null,
      "metadata": {
        "id": "q4wyiotjA_qI"
      },
      "outputs": [],
      "source": [
        "sample_data['text']=sample_data['Title'] + ''+sample_data['Headline']"
      ]
    },
    {
      "cell_type": "markdown",
      "metadata": {
        "id": "6-BQBj5Y_SU5"
      },
      "source": [
        "#**Preprocessing**\n",
        "---"
      ]
    },
    {
      "cell_type": "code",
      "execution_count": null,
      "metadata": {
        "colab": {
          "base_uri": "https://localhost:8080/"
        },
        "id": "na0TnvZg_X10",
        "outputId": "639207c1-28ed-4726-dffe-322b461041bd"
      },
      "outputs": [
        {
          "output_type": "stream",
          "name": "stderr",
          "text": [
            "[nltk_data] Downloading package punkt to /root/nltk_data...\n",
            "[nltk_data]   Package punkt is already up-to-date!\n",
            "[nltk_data] Downloading package stopwords to /root/nltk_data...\n",
            "[nltk_data]   Package stopwords is already up-to-date!\n",
            "[nltk_data] Downloading package wordnet to /root/nltk_data...\n",
            "[nltk_data]   Package wordnet is already up-to-date!\n"
          ]
        },
        {
          "output_type": "execute_result",
          "data": {
            "text/plain": [
              "True"
            ]
          },
          "metadata": {},
          "execution_count": 11
        }
      ],
      "source": [
        "from nltk.corpus import stopwords\n",
        "from nltk.tokenize import word_tokenize\n",
        "from nltk.stem import PorterStemmer, WordNetLemmatizer\n",
        "import nltk\n",
        "import re\n",
        "\n",
        "nltk.download('punkt')\n",
        "nltk.download('stopwords')\n",
        "nltk.download('wordnet')"
      ]
    },
    {
      "cell_type": "code",
      "execution_count": null,
      "metadata": {
        "id": "0L8SfdPE_Z9C"
      },
      "outputs": [],
      "source": [
        "# Define stopwords\n",
        "stop_words = set(stopwords.words('english'))\n",
        "\n",
        "# Define stemmer\n",
        "stemmer = PorterStemmer()\n",
        "\n",
        "# Define lemmatizer\n",
        "lemmatizer = WordNetLemmatizer()\n",
        "\n",
        "def preprocess_text(text):\n",
        "    # Convert text to lowercase\n",
        "    text = text.lower()\n",
        "\n",
        "    # Remove punctuations and numbers\n",
        "    text = re.sub('[^a-zA-Z]', ' ', text)\n",
        "\n",
        "    # Tokenize and remove stop words\n",
        "    tokenized_text = [w for w in word_tokenize(text) if w not in stop_words]\n",
        "    text = ' '.join(tokenized_text)\n",
        "\n",
        "    # Perform stemming and lemmatization\n",
        "    stemmed_lemmatized_text = [stemmer.stem(lemmatizer.lemmatize(w)) for w in word_tokenize(text)]\n",
        "    text = ' '.join(stemmed_lemmatized_text)\n",
        "\n",
        "    return text"
      ]
    },
    {
      "cell_type": "code",
      "execution_count": null,
      "metadata": {
        "colab": {
          "base_uri": "https://localhost:8080/"
        },
        "id": "cBM8Jtul_f68",
        "outputId": "6fd82837-c485-4660-ff7b-3ec746cd72e0"
      },
      "outputs": [
        {
          "output_type": "stream",
          "name": "stdout",
          "text": [
            "         IDLink                                              Title  \\\n",
            "57406   39210.0  Job report shows upswing in labor statistic, b...   \n",
            "7781     5687.0  China Reshapes Energy Sector, Shifts Towards M...   \n",
            "19846   69591.0  Thanks, Obama: Highest Earners' Tax Rates Rose...   \n",
            "59320   40399.0  Japan economy recovering despite slowing emerg...   \n",
            "17606   11527.0  FP Watchlist: Canadian economy stalls unexpect...   \n",
            "...         ...                                                ...   \n",
            "2638     5353.0  Microsoft's Nadella Makes New Security Push Wi...   \n",
            "6812     5001.0  Black Friday UK: Sony's PS4 sale and Microsoft...   \n",
            "87352  102385.0  Rep. Darrell Issa Spent 7 Years Lying About Ob...   \n",
            "76345   51784.0  Microsoft Unveils Plan To Combat 'Terrorist Co...   \n",
            "43712   27591.0  UPDATE 1-Irish economy frames voter debate as ...   \n",
            "\n",
            "                                                Headline      Topic  \\\n",
            "57406  The report shows that the economy and labor-fo...    economy   \n",
            "7781   Chinese President Xi Jinping took another step...    economy   \n",
            "19846  The spike in the wealthiest people's tax rates...      obama   \n",
            "59320  TOKYO (Kyodo) -- Bank of Japan Governor Haruhi...    economy   \n",
            "17606  Canada's gross domestic product came in flat f...    economy   \n",
            "...                                                  ...        ...   \n",
            "2638   The cloud and mobile devices are forcing busin...  microsoft   \n",
            "6812   BLACK FRIDAY in the UK has kicked off, with So...  microsoft   \n",
            "87352  A new poll shows Rep. Darrell Issa (R-CA) tied...      obama   \n",
            "76345  Microsoft has unveiled a two-pronged approach ...  microsoft   \n",
            "43712  Framed by a debate over how to distribute the ...    economy   \n",
            "\n",
            "      PublishDate  SentimentTitle  SentimentHeadline  Facebook  GooglePlus  \\\n",
            "57406  2016-04-01        0.026097           0.066826       3.0         1.0   \n",
            "7781   2015-11-30        0.397748           0.052129       1.0         1.0   \n",
            "19846  2015-12-31        0.093750           0.027277     176.0         9.0   \n",
            "59320  2016-04-07        0.077340           0.167705       1.0         1.0   \n",
            "17606  2015-12-23       -0.020833          -0.207871       3.0         1.0   \n",
            "...           ...             ...                ...       ...         ...   \n",
            "2638   2015-11-17       -0.063410          -0.008152       0.0         0.0   \n",
            "6812   2015-11-27       -0.039528          -0.092139       5.0         1.0   \n",
            "87352  2016-06-21        0.301511           0.020833     176.0         9.0   \n",
            "76345  2016-05-24        0.000000          -0.002961      12.0         4.0   \n",
            "43712  2016-02-27       -0.096625          -0.310439       1.0         1.0   \n",
            "\n",
            "       LinkedIn PublishTime    Weekday  Facebook_scaled  GooglePlus_scaled  \\\n",
            "57406       1.0    18:01:17     Friday        -0.615655          -0.617774   \n",
            "7781        1.0    10:33:00     Monday        -0.649690          -0.617774   \n",
            "19846      25.0    00:53:42   Thursday         2.328406           2.386772   \n",
            "59320       1.0    02:13:19   Thursday        -0.649690          -0.617774   \n",
            "17606       1.0    17:20:20  Wednesday        -0.615655          -0.617774   \n",
            "...         ...         ...        ...              ...                ...   \n",
            "2638        0.0    00:00:00    Tuesday         0.000000           0.000000   \n",
            "6812        1.0    01:29:15     Friday        -0.581619          -0.617774   \n",
            "87352       5.0    22:40:17    Tuesday         2.328406           2.386772   \n",
            "76345      21.0    00:00:00    Tuesday        -0.462495           0.508931   \n",
            "43712       1.0    00:00:00   Saturday        -0.649690          -0.617774   \n",
            "\n",
            "       LinkedIn_scaled SentimentTitle_Category SentimentHeadline_Category  \\\n",
            "57406        -0.563154                positive                   positive   \n",
            "7781         -0.563154                positive                   positive   \n",
            "19846         2.434875                positive                   positive   \n",
            "59320        -0.563154                positive                   positive   \n",
            "17606        -0.563154                negative                   negative   \n",
            "...                ...                     ...                        ...   \n",
            "2638          0.000000                negative                   negative   \n",
            "6812         -0.563154                negative                   negative   \n",
            "87352        -0.063482                positive                   positive   \n",
            "76345         1.935204                 neutral                   negative   \n",
            "43712        -0.563154                negative                   negative   \n",
            "\n",
            "      Source_type  Hour                                               text  \n",
            "57406           A    18  job report show upsw labor statist economi sti...  \n",
            "7781            A    10  china reshap energi sector shift toward market...  \n",
            "19846           D     0  thank obama highest earner tax rate rose sharp...  \n",
            "59320           C     2  japan economi recov despit slow emerg market b...  \n",
            "17606           B    17  fp watchlist canadian economi stall unexpected...  \n",
            "...           ...   ...                                                ...  \n",
            "2638            C     0  microsoft nadella make new secur push cyber wa...  \n",
            "6812            C     1  black friday uk soni p sale microsoft xbox one...  \n",
            "87352           C    22  rep darrel issa spent year lie obama new poll ...  \n",
            "76345           B     0  microsoft unveil plan combat terrorist content...  \n",
            "43712           D     0  updat irish economi frame voter debat elect ki...  \n",
            "\n",
            "[4640 rows x 20 columns]\n"
          ]
        }
      ],
      "source": [
        "sample_data['text'] = sample_data['text'].apply(preprocess_text)\n",
        "print(sample_data)"
      ]
    },
    {
      "cell_type": "markdown",
      "metadata": {
        "id": "L11T3FA0BbT-"
      },
      "source": [
        "####**Dropping and one-hot encoding columns**"
      ]
    },
    {
      "cell_type": "code",
      "execution_count": null,
      "metadata": {
        "id": "LqYXZRypI-hZ"
      },
      "outputs": [],
      "source": [
        "# Dropping irrelevant columns, i.e. other than\n",
        "irrelevant_columns = ['IDLink', 'Title', 'Headline', 'PublishDate', 'Facebook',\n",
        "                      'SentimentTitle','SentimentHeadline', 'GooglePlus',\n",
        "                      'LinkedIn']\n",
        "sample_data.drop(columns = irrelevant_columns, inplace = True)\n"
      ]
    },
    {
      "cell_type": "code",
      "execution_count": null,
      "metadata": {
        "colab": {
          "base_uri": "https://localhost:8080/",
          "height": 568
        },
        "id": "kqviPTecBauP",
        "outputId": "4d92a6d0-5221-4dad-c22f-c088ff83e686"
      },
      "outputs": [
        {
          "output_type": "stream",
          "name": "stdout",
          "text": [
            "(4640, 27)\n"
          ]
        },
        {
          "output_type": "execute_result",
          "data": {
            "text/plain": [
              "      PublishTime  Facebook_scaled  GooglePlus_scaled  LinkedIn_scaled  Hour  \\\n",
              "57406    18:01:17        -0.615655          -0.617774        -0.563154    18   \n",
              "7781     10:33:00        -0.649690          -0.617774        -0.563154    10   \n",
              "19846    00:53:42         2.328406           2.386772         2.434875     0   \n",
              "59320    02:13:19        -0.649690          -0.617774        -0.563154     2   \n",
              "17606    17:20:20        -0.615655          -0.617774        -0.563154    17   \n",
              "\n",
              "                                                    text  Topic_economy  \\\n",
              "57406  job report show upsw labor statist economi sti...              1   \n",
              "7781   china reshap energi sector shift toward market...              1   \n",
              "19846  thank obama highest earner tax rate rose sharp...              0   \n",
              "59320  japan economi recov despit slow emerg market b...              1   \n",
              "17606  fp watchlist canadian economi stall unexpected...              1   \n",
              "\n",
              "       Topic_microsoft  Topic_obama  Topic_palestine  ...  Source_type_B  \\\n",
              "57406                0            0                0  ...              0   \n",
              "7781                 0            0                0  ...              0   \n",
              "19846                0            1                0  ...              0   \n",
              "59320                0            0                0  ...              0   \n",
              "17606                0            0                0  ...              1   \n",
              "\n",
              "       Source_type_C  Source_type_D  Weekday_Friday  Weekday_Monday  \\\n",
              "57406              0              0               1               0   \n",
              "7781               0              0               0               1   \n",
              "19846              0              1               0               0   \n",
              "59320              1              0               0               0   \n",
              "17606              0              0               0               0   \n",
              "\n",
              "       Weekday_Saturday  Weekday_Sunday  Weekday_Thursday  Weekday_Tuesday  \\\n",
              "57406                 0               0                 0                0   \n",
              "7781                  0               0                 0                0   \n",
              "19846                 0               0                 1                0   \n",
              "59320                 0               0                 1                0   \n",
              "17606                 0               0                 0                0   \n",
              "\n",
              "       Weekday_Wednesday  \n",
              "57406                  0  \n",
              "7781                   0  \n",
              "19846                  0  \n",
              "59320                  0  \n",
              "17606                  1  \n",
              "\n",
              "[5 rows x 27 columns]"
            ],
            "text/html": [
              "\n",
              "  <div id=\"df-7b3d5bb1-7a46-432c-b4f2-ff41e4f066bf\" class=\"colab-df-container\">\n",
              "    <div>\n",
              "<style scoped>\n",
              "    .dataframe tbody tr th:only-of-type {\n",
              "        vertical-align: middle;\n",
              "    }\n",
              "\n",
              "    .dataframe tbody tr th {\n",
              "        vertical-align: top;\n",
              "    }\n",
              "\n",
              "    .dataframe thead th {\n",
              "        text-align: right;\n",
              "    }\n",
              "</style>\n",
              "<table border=\"1\" class=\"dataframe\">\n",
              "  <thead>\n",
              "    <tr style=\"text-align: right;\">\n",
              "      <th></th>\n",
              "      <th>PublishTime</th>\n",
              "      <th>Facebook_scaled</th>\n",
              "      <th>GooglePlus_scaled</th>\n",
              "      <th>LinkedIn_scaled</th>\n",
              "      <th>Hour</th>\n",
              "      <th>text</th>\n",
              "      <th>Topic_economy</th>\n",
              "      <th>Topic_microsoft</th>\n",
              "      <th>Topic_obama</th>\n",
              "      <th>Topic_palestine</th>\n",
              "      <th>...</th>\n",
              "      <th>Source_type_B</th>\n",
              "      <th>Source_type_C</th>\n",
              "      <th>Source_type_D</th>\n",
              "      <th>Weekday_Friday</th>\n",
              "      <th>Weekday_Monday</th>\n",
              "      <th>Weekday_Saturday</th>\n",
              "      <th>Weekday_Sunday</th>\n",
              "      <th>Weekday_Thursday</th>\n",
              "      <th>Weekday_Tuesday</th>\n",
              "      <th>Weekday_Wednesday</th>\n",
              "    </tr>\n",
              "  </thead>\n",
              "  <tbody>\n",
              "    <tr>\n",
              "      <th>57406</th>\n",
              "      <td>18:01:17</td>\n",
              "      <td>-0.615655</td>\n",
              "      <td>-0.617774</td>\n",
              "      <td>-0.563154</td>\n",
              "      <td>18</td>\n",
              "      <td>job report show upsw labor statist economi sti...</td>\n",
              "      <td>1</td>\n",
              "      <td>0</td>\n",
              "      <td>0</td>\n",
              "      <td>0</td>\n",
              "      <td>...</td>\n",
              "      <td>0</td>\n",
              "      <td>0</td>\n",
              "      <td>0</td>\n",
              "      <td>1</td>\n",
              "      <td>0</td>\n",
              "      <td>0</td>\n",
              "      <td>0</td>\n",
              "      <td>0</td>\n",
              "      <td>0</td>\n",
              "      <td>0</td>\n",
              "    </tr>\n",
              "    <tr>\n",
              "      <th>7781</th>\n",
              "      <td>10:33:00</td>\n",
              "      <td>-0.649690</td>\n",
              "      <td>-0.617774</td>\n",
              "      <td>-0.563154</td>\n",
              "      <td>10</td>\n",
              "      <td>china reshap energi sector shift toward market...</td>\n",
              "      <td>1</td>\n",
              "      <td>0</td>\n",
              "      <td>0</td>\n",
              "      <td>0</td>\n",
              "      <td>...</td>\n",
              "      <td>0</td>\n",
              "      <td>0</td>\n",
              "      <td>0</td>\n",
              "      <td>0</td>\n",
              "      <td>1</td>\n",
              "      <td>0</td>\n",
              "      <td>0</td>\n",
              "      <td>0</td>\n",
              "      <td>0</td>\n",
              "      <td>0</td>\n",
              "    </tr>\n",
              "    <tr>\n",
              "      <th>19846</th>\n",
              "      <td>00:53:42</td>\n",
              "      <td>2.328406</td>\n",
              "      <td>2.386772</td>\n",
              "      <td>2.434875</td>\n",
              "      <td>0</td>\n",
              "      <td>thank obama highest earner tax rate rose sharp...</td>\n",
              "      <td>0</td>\n",
              "      <td>0</td>\n",
              "      <td>1</td>\n",
              "      <td>0</td>\n",
              "      <td>...</td>\n",
              "      <td>0</td>\n",
              "      <td>0</td>\n",
              "      <td>1</td>\n",
              "      <td>0</td>\n",
              "      <td>0</td>\n",
              "      <td>0</td>\n",
              "      <td>0</td>\n",
              "      <td>1</td>\n",
              "      <td>0</td>\n",
              "      <td>0</td>\n",
              "    </tr>\n",
              "    <tr>\n",
              "      <th>59320</th>\n",
              "      <td>02:13:19</td>\n",
              "      <td>-0.649690</td>\n",
              "      <td>-0.617774</td>\n",
              "      <td>-0.563154</td>\n",
              "      <td>2</td>\n",
              "      <td>japan economi recov despit slow emerg market b...</td>\n",
              "      <td>1</td>\n",
              "      <td>0</td>\n",
              "      <td>0</td>\n",
              "      <td>0</td>\n",
              "      <td>...</td>\n",
              "      <td>0</td>\n",
              "      <td>1</td>\n",
              "      <td>0</td>\n",
              "      <td>0</td>\n",
              "      <td>0</td>\n",
              "      <td>0</td>\n",
              "      <td>0</td>\n",
              "      <td>1</td>\n",
              "      <td>0</td>\n",
              "      <td>0</td>\n",
              "    </tr>\n",
              "    <tr>\n",
              "      <th>17606</th>\n",
              "      <td>17:20:20</td>\n",
              "      <td>-0.615655</td>\n",
              "      <td>-0.617774</td>\n",
              "      <td>-0.563154</td>\n",
              "      <td>17</td>\n",
              "      <td>fp watchlist canadian economi stall unexpected...</td>\n",
              "      <td>1</td>\n",
              "      <td>0</td>\n",
              "      <td>0</td>\n",
              "      <td>0</td>\n",
              "      <td>...</td>\n",
              "      <td>1</td>\n",
              "      <td>0</td>\n",
              "      <td>0</td>\n",
              "      <td>0</td>\n",
              "      <td>0</td>\n",
              "      <td>0</td>\n",
              "      <td>0</td>\n",
              "      <td>0</td>\n",
              "      <td>0</td>\n",
              "      <td>1</td>\n",
              "    </tr>\n",
              "  </tbody>\n",
              "</table>\n",
              "<p>5 rows × 27 columns</p>\n",
              "</div>\n",
              "    <div class=\"colab-df-buttons\">\n",
              "\n",
              "  <div class=\"colab-df-container\">\n",
              "    <button class=\"colab-df-convert\" onclick=\"convertToInteractive('df-7b3d5bb1-7a46-432c-b4f2-ff41e4f066bf')\"\n",
              "            title=\"Convert this dataframe to an interactive table.\"\n",
              "            style=\"display:none;\">\n",
              "\n",
              "  <svg xmlns=\"http://www.w3.org/2000/svg\" height=\"24px\" viewBox=\"0 -960 960 960\">\n",
              "    <path d=\"M120-120v-720h720v720H120Zm60-500h600v-160H180v160Zm220 220h160v-160H400v160Zm0 220h160v-160H400v160ZM180-400h160v-160H180v160Zm440 0h160v-160H620v160ZM180-180h160v-160H180v160Zm440 0h160v-160H620v160Z\"/>\n",
              "  </svg>\n",
              "    </button>\n",
              "\n",
              "  <style>\n",
              "    .colab-df-container {\n",
              "      display:flex;\n",
              "      gap: 12px;\n",
              "    }\n",
              "\n",
              "    .colab-df-convert {\n",
              "      background-color: #E8F0FE;\n",
              "      border: none;\n",
              "      border-radius: 50%;\n",
              "      cursor: pointer;\n",
              "      display: none;\n",
              "      fill: #1967D2;\n",
              "      height: 32px;\n",
              "      padding: 0 0 0 0;\n",
              "      width: 32px;\n",
              "    }\n",
              "\n",
              "    .colab-df-convert:hover {\n",
              "      background-color: #E2EBFA;\n",
              "      box-shadow: 0px 1px 2px rgba(60, 64, 67, 0.3), 0px 1px 3px 1px rgba(60, 64, 67, 0.15);\n",
              "      fill: #174EA6;\n",
              "    }\n",
              "\n",
              "    .colab-df-buttons div {\n",
              "      margin-bottom: 4px;\n",
              "    }\n",
              "\n",
              "    [theme=dark] .colab-df-convert {\n",
              "      background-color: #3B4455;\n",
              "      fill: #D2E3FC;\n",
              "    }\n",
              "\n",
              "    [theme=dark] .colab-df-convert:hover {\n",
              "      background-color: #434B5C;\n",
              "      box-shadow: 0px 1px 3px 1px rgba(0, 0, 0, 0.15);\n",
              "      filter: drop-shadow(0px 1px 2px rgba(0, 0, 0, 0.3));\n",
              "      fill: #FFFFFF;\n",
              "    }\n",
              "  </style>\n",
              "\n",
              "    <script>\n",
              "      const buttonEl =\n",
              "        document.querySelector('#df-7b3d5bb1-7a46-432c-b4f2-ff41e4f066bf button.colab-df-convert');\n",
              "      buttonEl.style.display =\n",
              "        google.colab.kernel.accessAllowed ? 'block' : 'none';\n",
              "\n",
              "      async function convertToInteractive(key) {\n",
              "        const element = document.querySelector('#df-7b3d5bb1-7a46-432c-b4f2-ff41e4f066bf');\n",
              "        const dataTable =\n",
              "          await google.colab.kernel.invokeFunction('convertToInteractive',\n",
              "                                                    [key], {});\n",
              "        if (!dataTable) return;\n",
              "\n",
              "        const docLinkHtml = 'Like what you see? Visit the ' +\n",
              "          '<a target=\"_blank\" href=https://colab.research.google.com/notebooks/data_table.ipynb>data table notebook</a>'\n",
              "          + ' to learn more about interactive tables.';\n",
              "        element.innerHTML = '';\n",
              "        dataTable['output_type'] = 'display_data';\n",
              "        await google.colab.output.renderOutput(dataTable, element);\n",
              "        const docLink = document.createElement('div');\n",
              "        docLink.innerHTML = docLinkHtml;\n",
              "        element.appendChild(docLink);\n",
              "      }\n",
              "    </script>\n",
              "  </div>\n",
              "\n",
              "\n",
              "<div id=\"df-babd5d0a-dd99-4f69-bf31-571cb765d09d\">\n",
              "  <button class=\"colab-df-quickchart\" onclick=\"quickchart('df-babd5d0a-dd99-4f69-bf31-571cb765d09d')\"\n",
              "            title=\"Suggest charts.\"\n",
              "            style=\"display:none;\">\n",
              "\n",
              "<svg xmlns=\"http://www.w3.org/2000/svg\" height=\"24px\"viewBox=\"0 0 24 24\"\n",
              "     width=\"24px\">\n",
              "    <g>\n",
              "        <path d=\"M19 3H5c-1.1 0-2 .9-2 2v14c0 1.1.9 2 2 2h14c1.1 0 2-.9 2-2V5c0-1.1-.9-2-2-2zM9 17H7v-7h2v7zm4 0h-2V7h2v10zm4 0h-2v-4h2v4z\"/>\n",
              "    </g>\n",
              "</svg>\n",
              "  </button>\n",
              "\n",
              "<style>\n",
              "  .colab-df-quickchart {\n",
              "      --bg-color: #E8F0FE;\n",
              "      --fill-color: #1967D2;\n",
              "      --hover-bg-color: #E2EBFA;\n",
              "      --hover-fill-color: #174EA6;\n",
              "      --disabled-fill-color: #AAA;\n",
              "      --disabled-bg-color: #DDD;\n",
              "  }\n",
              "\n",
              "  [theme=dark] .colab-df-quickchart {\n",
              "      --bg-color: #3B4455;\n",
              "      --fill-color: #D2E3FC;\n",
              "      --hover-bg-color: #434B5C;\n",
              "      --hover-fill-color: #FFFFFF;\n",
              "      --disabled-bg-color: #3B4455;\n",
              "      --disabled-fill-color: #666;\n",
              "  }\n",
              "\n",
              "  .colab-df-quickchart {\n",
              "    background-color: var(--bg-color);\n",
              "    border: none;\n",
              "    border-radius: 50%;\n",
              "    cursor: pointer;\n",
              "    display: none;\n",
              "    fill: var(--fill-color);\n",
              "    height: 32px;\n",
              "    padding: 0;\n",
              "    width: 32px;\n",
              "  }\n",
              "\n",
              "  .colab-df-quickchart:hover {\n",
              "    background-color: var(--hover-bg-color);\n",
              "    box-shadow: 0 1px 2px rgba(60, 64, 67, 0.3), 0 1px 3px 1px rgba(60, 64, 67, 0.15);\n",
              "    fill: var(--button-hover-fill-color);\n",
              "  }\n",
              "\n",
              "  .colab-df-quickchart-complete:disabled,\n",
              "  .colab-df-quickchart-complete:disabled:hover {\n",
              "    background-color: var(--disabled-bg-color);\n",
              "    fill: var(--disabled-fill-color);\n",
              "    box-shadow: none;\n",
              "  }\n",
              "\n",
              "  .colab-df-spinner {\n",
              "    border: 2px solid var(--fill-color);\n",
              "    border-color: transparent;\n",
              "    border-bottom-color: var(--fill-color);\n",
              "    animation:\n",
              "      spin 1s steps(1) infinite;\n",
              "  }\n",
              "\n",
              "  @keyframes spin {\n",
              "    0% {\n",
              "      border-color: transparent;\n",
              "      border-bottom-color: var(--fill-color);\n",
              "      border-left-color: var(--fill-color);\n",
              "    }\n",
              "    20% {\n",
              "      border-color: transparent;\n",
              "      border-left-color: var(--fill-color);\n",
              "      border-top-color: var(--fill-color);\n",
              "    }\n",
              "    30% {\n",
              "      border-color: transparent;\n",
              "      border-left-color: var(--fill-color);\n",
              "      border-top-color: var(--fill-color);\n",
              "      border-right-color: var(--fill-color);\n",
              "    }\n",
              "    40% {\n",
              "      border-color: transparent;\n",
              "      border-right-color: var(--fill-color);\n",
              "      border-top-color: var(--fill-color);\n",
              "    }\n",
              "    60% {\n",
              "      border-color: transparent;\n",
              "      border-right-color: var(--fill-color);\n",
              "    }\n",
              "    80% {\n",
              "      border-color: transparent;\n",
              "      border-right-color: var(--fill-color);\n",
              "      border-bottom-color: var(--fill-color);\n",
              "    }\n",
              "    90% {\n",
              "      border-color: transparent;\n",
              "      border-bottom-color: var(--fill-color);\n",
              "    }\n",
              "  }\n",
              "</style>\n",
              "\n",
              "  <script>\n",
              "    async function quickchart(key) {\n",
              "      const quickchartButtonEl =\n",
              "        document.querySelector('#' + key + ' button');\n",
              "      quickchartButtonEl.disabled = true;  // To prevent multiple clicks.\n",
              "      quickchartButtonEl.classList.add('colab-df-spinner');\n",
              "      try {\n",
              "        const charts = await google.colab.kernel.invokeFunction(\n",
              "            'suggestCharts', [key], {});\n",
              "      } catch (error) {\n",
              "        console.error('Error during call to suggestCharts:', error);\n",
              "      }\n",
              "      quickchartButtonEl.classList.remove('colab-df-spinner');\n",
              "      quickchartButtonEl.classList.add('colab-df-quickchart-complete');\n",
              "    }\n",
              "    (() => {\n",
              "      let quickchartButtonEl =\n",
              "        document.querySelector('#df-babd5d0a-dd99-4f69-bf31-571cb765d09d button');\n",
              "      quickchartButtonEl.style.display =\n",
              "        google.colab.kernel.accessAllowed ? 'block' : 'none';\n",
              "    })();\n",
              "  </script>\n",
              "</div>\n",
              "    </div>\n",
              "  </div>\n"
            ]
          },
          "metadata": {},
          "execution_count": 15
        }
      ],
      "source": [
        "sample_data = pd.get_dummies(sample_data, columns=['Topic','SentimentTitle_Category','SentimentHeadline_Category','Source_type','Weekday'])\n",
        "\n",
        "print(sample_data.shape)\n",
        "sample_data.head()"
      ]
    },
    {
      "cell_type": "code",
      "execution_count": null,
      "metadata": {
        "id": "OD8BzYfICBKK"
      },
      "outputs": [],
      "source": [
        "# Assuming you have a DataFrame df with multiple target columns: target1, target2, target3\n",
        "X = sample_data.drop(['Facebook_scaled', 'LinkedIn_scaled', 'GooglePlus_scaled'], axis=1)  # Features\n",
        "y = sample_data[['Facebook_scaled', 'LinkedIn_scaled', 'GooglePlus_scaled']]  # Multiple target columns"
      ]
    },
    {
      "cell_type": "markdown",
      "metadata": {
        "id": "-mXz2ymN_nt4"
      },
      "source": [
        "###**Splitting the dataset**"
      ]
    },
    {
      "cell_type": "code",
      "execution_count": null,
      "metadata": {
        "id": "syhPFF70_rNh"
      },
      "outputs": [],
      "source": [
        "from sklearn.model_selection import train_test_split\n",
        "# Split Data\n",
        "X_train, X_test, y_train, y_test = train_test_split(X, y, test_size=0.2, random_state=42)"
      ]
    },
    {
      "cell_type": "code",
      "execution_count": null,
      "metadata": {
        "colab": {
          "base_uri": "https://localhost:8080/"
        },
        "id": "IcOxx3YrC43w",
        "outputId": "d5e64f6a-8bd9-4856-9d43-d7722e1ea88b"
      },
      "outputs": [
        {
          "output_type": "stream",
          "name": "stdout",
          "text": [
            "<class 'pandas.core.frame.DataFrame'>\n",
            "Int64Index: 4640 entries, 57406 to 43712\n",
            "Data columns (total 3 columns):\n",
            " #   Column             Non-Null Count  Dtype  \n",
            "---  ------             --------------  -----  \n",
            " 0   Facebook_scaled    4640 non-null   float64\n",
            " 1   LinkedIn_scaled    4640 non-null   float64\n",
            " 2   GooglePlus_scaled  4640 non-null   float64\n",
            "dtypes: float64(3)\n",
            "memory usage: 145.0 KB\n"
          ]
        }
      ],
      "source": [
        "y.info()"
      ]
    },
    {
      "cell_type": "markdown",
      "metadata": {
        "id": "w7YeY2JsC6BH"
      },
      "source": [
        "#**BERT MODEL**"
      ]
    },
    {
      "cell_type": "code",
      "execution_count": null,
      "metadata": {
        "colab": {
          "base_uri": "https://localhost:8080/"
        },
        "id": "nsM66kbx_5aZ",
        "outputId": "1b871ee5-a42d-4713-a6ce-8af13580dd2a"
      },
      "outputs": [
        {
          "output_type": "stream",
          "name": "stdout",
          "text": [
            "Requirement already satisfied: transformers in /usr/local/lib/python3.10/dist-packages (4.33.2)\n",
            "Requirement already satisfied: filelock in /usr/local/lib/python3.10/dist-packages (from transformers) (3.12.2)\n",
            "Requirement already satisfied: huggingface-hub<1.0,>=0.15.1 in /usr/local/lib/python3.10/dist-packages (from transformers) (0.17.2)\n",
            "Requirement already satisfied: numpy>=1.17 in /usr/local/lib/python3.10/dist-packages (from transformers) (1.23.5)\n",
            "Requirement already satisfied: packaging>=20.0 in /usr/local/lib/python3.10/dist-packages (from transformers) (23.1)\n",
            "Requirement already satisfied: pyyaml>=5.1 in /usr/local/lib/python3.10/dist-packages (from transformers) (6.0.1)\n",
            "Requirement already satisfied: regex!=2019.12.17 in /usr/local/lib/python3.10/dist-packages (from transformers) (2023.6.3)\n",
            "Requirement already satisfied: requests in /usr/local/lib/python3.10/dist-packages (from transformers) (2.31.0)\n",
            "Requirement already satisfied: tokenizers!=0.11.3,<0.14,>=0.11.1 in /usr/local/lib/python3.10/dist-packages (from transformers) (0.13.3)\n",
            "Requirement already satisfied: safetensors>=0.3.1 in /usr/local/lib/python3.10/dist-packages (from transformers) (0.3.3)\n",
            "Requirement already satisfied: tqdm>=4.27 in /usr/local/lib/python3.10/dist-packages (from transformers) (4.66.1)\n",
            "Requirement already satisfied: fsspec in /usr/local/lib/python3.10/dist-packages (from huggingface-hub<1.0,>=0.15.1->transformers) (2023.6.0)\n",
            "Requirement already satisfied: typing-extensions>=3.7.4.3 in /usr/local/lib/python3.10/dist-packages (from huggingface-hub<1.0,>=0.15.1->transformers) (4.5.0)\n",
            "Requirement already satisfied: charset-normalizer<4,>=2 in /usr/local/lib/python3.10/dist-packages (from requests->transformers) (3.2.0)\n",
            "Requirement already satisfied: idna<4,>=2.5 in /usr/local/lib/python3.10/dist-packages (from requests->transformers) (3.4)\n",
            "Requirement already satisfied: urllib3<3,>=1.21.1 in /usr/local/lib/python3.10/dist-packages (from requests->transformers) (2.0.4)\n",
            "Requirement already satisfied: certifi>=2017.4.17 in /usr/local/lib/python3.10/dist-packages (from requests->transformers) (2023.7.22)\n"
          ]
        }
      ],
      "source": [
        "!pip install transformers"
      ]
    },
    {
      "cell_type": "code",
      "execution_count": null,
      "metadata": {
        "id": "7DkXBTohDxqs"
      },
      "outputs": [],
      "source": [
        "# Import necessary libraries\n",
        "import numpy as np\n",
        "import pandas as pd\n",
        "import tensorflow as tf\n",
        "from transformers import BertTokenizer, TFBertModel\n",
        "from sklearn.model_selection import train_test_split\n",
        "from sklearn.metrics import mean_squared_error, r2_score\n",
        "from tensorflow.keras.layers import Input, Dense, Dropout, Concatenate, Flatten\n",
        "from tensorflow.keras.models import Model\n",
        "from tensorflow.keras.optimizers import Adam"
      ]
    },
    {
      "cell_type": "code",
      "execution_count": null,
      "metadata": {
        "id": "602opotrDxl0"
      },
      "outputs": [],
      "source": [
        "# Tokenize text data using BERT tokenizer\n",
        "tokenizer = BertTokenizer.from_pretrained('bert-base-uncased', do_lower_case=True)\n",
        "tokenized_text_train = X_train['text'].apply((lambda x: tokenizer.encode(x, add_special_tokens=True)))\n",
        "tokenized_text_test = X_test['text'].apply((lambda x: tokenizer.encode(x, add_special_tokens=True)))"
      ]
    },
    {
      "cell_type": "code",
      "execution_count": null,
      "metadata": {
        "colab": {
          "base_uri": "https://localhost:8080/"
        },
        "id": "TuA1vz3YErTd",
        "outputId": "194aeab8-4056-4cf0-ad6d-d8af1d3c2fa9"
      },
      "outputs": [
        {
          "output_type": "stream",
          "name": "stderr",
          "text": [
            "Some weights of the PyTorch model were not used when initializing the TF 2.0 model TFBertModel: ['cls.seq_relationship.bias', 'cls.predictions.transform.dense.bias', 'cls.predictions.transform.LayerNorm.bias', 'cls.predictions.transform.LayerNorm.weight', 'cls.seq_relationship.weight', 'cls.predictions.transform.dense.weight', 'cls.predictions.bias']\n",
            "- This IS expected if you are initializing TFBertModel from a PyTorch model trained on another task or with another architecture (e.g. initializing a TFBertForSequenceClassification model from a BertForPreTraining model).\n",
            "- This IS NOT expected if you are initializing TFBertModel from a PyTorch model that you expect to be exactly identical (e.g. initializing a TFBertForSequenceClassification model from a BertForSequenceClassification model).\n",
            "All the weights of TFBertModel were initialized from the PyTorch model.\n",
            "If your task is similar to the task the model of the checkpoint was trained on, you can already use TFBertModel for predictions without further training.\n"
          ]
        }
      ],
      "source": [
        "# Step 3: Define the BERT Model\n",
        "# Load the pre-trained BERT model\n",
        "bert_model = TFBertModel.from_pretrained('bert-base-uncased')"
      ]
    },
    {
      "cell_type": "code",
      "execution_count": null,
      "metadata": {
        "id": "kVNdpmtfFG43"
      },
      "outputs": [],
      "source": [
        "# Analyze the distribution of sequence lengths in your tokenized text data\n",
        "sequence_lengths = tokenized_text_train.apply(len)\n",
        "\n",
        "# Calculate the maximum sequence length considering the percentile\n",
        "# For example, you can choose the 95th percentile as your max_seq_length\n",
        "max_seq_length = int(np.percentile(sequence_lengths, 95))"
      ]
    },
    {
      "cell_type": "code",
      "execution_count": null,
      "metadata": {
        "id": "xzqt7pI5Ejzg"
      },
      "outputs": [],
      "source": [
        "# Define additional layers for regression\n",
        "input_ids = Input(shape=(max_seq_length,), dtype=tf.int32)\n",
        "bert_output = bert_model(input_ids)[0]  # BERT embedding layer\n",
        "x = Flatten()(bert_output)\n",
        "x = Dense(128, activation='relu')(x)\n",
        "x = Dropout(0.5)(x)\n",
        "output = Dense(3)(x)  # Output layer with 3 units for 3 target variables\n",
        "\n",
        "model = Model(inputs=input_ids, outputs=output)"
      ]
    },
    {
      "cell_type": "code",
      "execution_count": null,
      "metadata": {
        "id": "eHcFm4IRDxdo"
      },
      "outputs": [],
      "source": [
        "# Step 4: Compile the Model\n",
        "optimizer = Adam(learning_rate=1e-5)\n",
        "model.compile(optimizer=optimizer, loss='mean_squared_error')"
      ]
    },
    {
      "cell_type": "code",
      "execution_count": null,
      "metadata": {
        "id": "cNEuIdn1FuaH"
      },
      "outputs": [],
      "source": [
        "from tensorflow.keras.preprocessing.sequence import pad_sequences\n",
        "\n",
        "# Assuming tokenized_text_train is a list of lists containing tokenized sequences\n",
        "padded_sequences_train = pad_sequences(tokenized_text_train, maxlen=max_seq_length, padding='post', truncating='post')\n"
      ]
    },
    {
      "cell_type": "code",
      "execution_count": null,
      "metadata": {
        "colab": {
          "base_uri": "https://localhost:8080/"
        },
        "id": "a9xBAJHXFvb8",
        "outputId": "3f435b1c-9ae5-4709-b9c2-c1453c96ff29"
      },
      "outputs": [
        {
          "output_type": "stream",
          "name": "stdout",
          "text": [
            "Epoch 1/7\n"
          ]
        },
        {
          "output_type": "stream",
          "name": "stderr",
          "text": [
            "WARNING:tensorflow:Gradients do not exist for variables ['tf_bert_model/bert/pooler/dense/kernel:0', 'tf_bert_model/bert/pooler/dense/bias:0'] when minimizing the loss. If you're using `model.compile()`, did you forget to provide a `loss` argument?\n",
            "WARNING:tensorflow:Gradients do not exist for variables ['tf_bert_model/bert/pooler/dense/kernel:0', 'tf_bert_model/bert/pooler/dense/bias:0'] when minimizing the loss. If you're using `model.compile()`, did you forget to provide a `loss` argument?\n",
            "WARNING:tensorflow:Gradients do not exist for variables ['tf_bert_model/bert/pooler/dense/kernel:0', 'tf_bert_model/bert/pooler/dense/bias:0'] when minimizing the loss. If you're using `model.compile()`, did you forget to provide a `loss` argument?\n",
            "WARNING:tensorflow:Gradients do not exist for variables ['tf_bert_model/bert/pooler/dense/kernel:0', 'tf_bert_model/bert/pooler/dense/bias:0'] when minimizing the loss. If you're using `model.compile()`, did you forget to provide a `loss` argument?\n"
          ]
        },
        {
          "output_type": "stream",
          "name": "stdout",
          "text": [
            "93/93 [==============================] - 1633s 17s/step - loss: 1.0014 - val_loss: 0.8719\n",
            "Epoch 2/7\n",
            "93/93 [==============================] - 1591s 17s/step - loss: 0.9105 - val_loss: 0.8267\n",
            "Epoch 3/7\n",
            "93/93 [==============================] - 1591s 17s/step - loss: 0.8610 - val_loss: 0.8319\n",
            "Epoch 4/7\n",
            "93/93 [==============================] - 1592s 17s/step - loss: 0.8375 - val_loss: 0.8089\n",
            "Epoch 5/7\n",
            "93/93 [==============================] - 1593s 17s/step - loss: 0.8023 - val_loss: 0.8521\n",
            "Epoch 6/7\n",
            "93/93 [==============================] - 1563s 17s/step - loss: 0.7800 - val_loss: 0.8331\n",
            "Epoch 7/7\n",
            "93/93 [==============================] - 1589s 17s/step - loss: 0.7086 - val_loss: 0.8370\n"
          ]
        },
        {
          "output_type": "execute_result",
          "data": {
            "text/plain": [
              "<keras.src.callbacks.History at 0x7fa8a93464d0>"
            ]
          },
          "metadata": {},
          "execution_count": 27
        }
      ],
      "source": [
        "model.fit(padded_sequences_train, y_train, epochs=7, batch_size=32, validation_split=0.2)"
      ]
    },
    {
      "cell_type": "code",
      "execution_count": null,
      "metadata": {
        "id": "AECtA-DXHWVB"
      },
      "outputs": [],
      "source": [
        "# Assuming tokenized_text_train is a list of lists containing tokenized sequences\n",
        "padded_sequences_test = pad_sequences(tokenized_text_test, maxlen=max_seq_length, padding='post', truncating='post')\n"
      ]
    },
    {
      "cell_type": "code",
      "execution_count": null,
      "metadata": {
        "id": "IaHfbByCE89O",
        "colab": {
          "base_uri": "https://localhost:8080/"
        },
        "outputId": "9c62369e-44e0-4f6d-b4fc-1f8af4774b4f"
      },
      "outputs": [
        {
          "output_type": "stream",
          "name": "stdout",
          "text": [
            "29/29 [==============================] - 140s 5s/step\n",
            "Mean Squared Error (MSE): 0.7774585444947104\n",
            "R-squared (R2): 0.10051964715246682\n"
          ]
        }
      ],
      "source": [
        "# Step 6: Evaluate the Model\n",
        "y_pred = model.predict(padded_sequences_test)\n",
        "\n",
        "# Evaluate the model's performance\n",
        "mse = mean_squared_error(y_test, y_pred)\n",
        "r2 = r2_score(y_test, y_pred)\n",
        "\n",
        "print(f\"Mean Squared Error (MSE): {mse}\")\n",
        "print(f\"R-squared (R2): {r2}\")"
      ]
    },
    {
      "cell_type": "markdown",
      "source": [
        "#**Model Performance:**\n",
        "---\n",
        "\n",
        "**Popularity prediction:**\n",
        "\n",
        "- BERT model seemed to show significant improvement with each epoch, with more epochs the model could give much better results.\n",
        "\n"
      ],
      "metadata": {
        "id": "0qk64fmpYYOa"
      }
    }
  ],
  "metadata": {
    "colab": {
      "provenance": []
    },
    "kernelspec": {
      "display_name": "Python 3",
      "name": "python3"
    },
    "language_info": {
      "name": "python"
    }
  },
  "nbformat": 4,
  "nbformat_minor": 0
}